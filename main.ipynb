{
 "cells": [
  {
   "cell_type": "code",
   "execution_count": 346,
   "id": "220e7804-a6fc-40ca-b32e-4bea424f7e52",
   "metadata": {},
   "outputs": [],
   "source": [
    "%run DensityPeakEstimation.ipynb"
   ]
  },
  {
   "cell_type": "code",
   "execution_count": 347,
   "id": "39ac2efe-d527-4d97-9f2e-837c49936405",
   "metadata": {},
   "outputs": [],
   "source": [
    "Delta_Density = np.loadtxt('DD.csv', delimiter=',', dtype=float)"
   ]
  },
  {
   "cell_type": "code",
   "execution_count": 348,
   "id": "88482f28-4429-42ce-be6e-49fde1a43442",
   "metadata": {},
   "outputs": [],
   "source": [
    "Density_ = np.loadtxt('Dens.csv', delimiter=',', dtype=float)"
   ]
  },
  {
   "cell_type": "code",
   "execution_count": 349,
   "id": "5f119f27-c118-40a6-bdf5-e81937e2cbcd",
   "metadata": {},
   "outputs": [],
   "source": [
    "Delta_ = np.loadtxt('Del.csv', delimiter=',', dtype=float)"
   ]
  },
  {
   "cell_type": "code",
   "execution_count": 350,
   "id": "b15e7f17-11c5-4453-8dcb-e365a861f192",
   "metadata": {},
   "outputs": [],
   "source": [
    "PWDiffDist = np.loadtxt('D.csv', delimiter=',', dtype=float)"
   ]
  },
  {
   "cell_type": "code",
   "execution_count": 322,
   "id": "9a65948c-9233-4f0e-be9c-88addcc782b4",
   "metadata": {},
   "outputs": [],
   "source": [
    "#centers = np.loadtxt('centers.csv', delimiter=',', dtype=int)"
   ]
  },
  {
   "cell_type": "code",
   "execution_count": 332,
   "id": "7e21e43b-f93f-4c09-8e0a-4c4831a7dc18",
   "metadata": {},
   "outputs": [],
   "source": [
    "centers -=1"
   ]
  },
  {
   "cell_type": "code",
   "execution_count": 333,
   "id": "821e4838-0da3-4762-9648-7b80686aba6f",
   "metadata": {},
   "outputs": [
    {
     "data": {
      "text/plain": [
       "array([4074, 1005, 6315, 2332, 2743, 5863])"
      ]
     },
     "execution_count": 333,
     "metadata": {},
     "output_type": "execute_result"
    }
   ],
   "source": [
    "centers"
   ]
  },
  {
   "cell_type": "code",
   "execution_count": 341,
   "id": "c1a12849-60f8-4a7c-9aef-6071b7f1af03",
   "metadata": {},
   "outputs": [
    {
     "data": {
      "text/plain": [
       "13"
      ]
     },
     "execution_count": 341,
     "metadata": {},
     "output_type": "execute_result"
    }
   ],
   "source": [
    "gt[centers[0]]"
   ]
  },
  {
   "cell_type": "code",
   "execution_count": 344,
   "id": "77a0fadb-e329-4b28-a4b4-a4b152a457ec",
   "metadata": {},
   "outputs": [
    {
     "data": {
      "text/plain": [
       "1790"
      ]
     },
     "execution_count": 344,
     "metadata": {},
     "output_type": "execute_result"
    }
   ],
   "source": [
    "len(np.where(gt == 0)[0])"
   ]
  },
  {
   "cell_type": "code",
   "execution_count": 345,
   "id": "da7e2fd7-bfdf-4fa1-a78e-80c1cb662748",
   "metadata": {},
   "outputs": [
    {
     "data": {
      "text/plain": [
       "5348"
      ]
     },
     "execution_count": 345,
     "metadata": {},
     "output_type": "execute_result"
    }
   ],
   "source": [
    "7138 - 1790"
   ]
  },
  {
   "cell_type": "code",
   "execution_count": null,
   "id": "4b2edc13-2b5d-4eff-9ad1-a6d63d77c701",
   "metadata": {},
   "outputs": [],
   "source": []
  },
  {
   "cell_type": "code",
   "execution_count": 351,
   "id": "79f18b5b-9632-4edf-bc16-c0abf2e24aaa",
   "metadata": {},
   "outputs": [],
   "source": [
    "import numpy as np\n",
    "\n",
    "def land(X, K, GT, B, t):\n",
    "    \n",
    "    n = X.shape[0]\n",
    "    Labels = np.zeros(n)\n",
    "    centers = density_peaks_estimation(Delta_Density, B)\n",
    "    \n",
    "    #known points\n",
    "    for i in range(B):\n",
    "        Labels[centers[i]] = GT[centers[i]] + 1 #+1 to ensure unlabeled points have value of 0\n",
    "    print(centers)\n",
    "        \n",
    "    # Sort points by density\n",
    "    idx = np.argsort(Density_)[::-1]\n",
    "    \n",
    "    \n",
    "    # Label highest density point if necessary\n",
    "    \n",
    "    if Labels[idx[0]] == 0:\n",
    "        Labels[idx[0]] = GT[idx[0]] + 1\n",
    "    \n",
    "    '''\n",
    "    for j in range(len(Labels)):\n",
    "        if Labels[idx[j]] == 0:\n",
    "            try:\n",
    "                NN = np.argmin(PWDiffDist[idx[j], idx[:j]])  # Find nearest neighbor index\n",
    "                Labels[idx[j]] = Labels[idx[NN]]\n",
    "            except:\n",
    "                pass\n",
    "            \n",
    "            # Special tie-breaking case when many values have the same density\n",
    "            if Labels[idx[j]] == 0:\n",
    "                temp = np.where(Labels > 0)[0]\n",
    "                NN = np.argmin(PWDiffDist[idx[j], temp])  # Find nearest neighbor index among labeled points\n",
    "                Labels[idx[j]] = Labels[temp[NN]]\n",
    "    '''\n",
    "    for j in range(n):\n",
    "        \n",
    "        if Labels[idx[j]] == 0:\n",
    "            NN = np.argmin(PWDiffDist[idx[j], idx[:j]])\n",
    "            Labels[idx[j]] = Labels[idx[NN]]\n",
    "            \n",
    "\n",
    "    return Labels\n",
    "\n",
    "\n"
   ]
  },
  {
   "cell_type": "code",
   "execution_count": null,
   "id": "24384d75-3604-45b7-bc8a-4eb8093329ba",
   "metadata": {},
   "outputs": [],
   "source": []
  },
  {
   "cell_type": "code",
   "execution_count": 352,
   "id": "8e885104-8759-46cf-a3a0-21fc571bdd81",
   "metadata": {},
   "outputs": [],
   "source": [
    "#mat_data = scipy.io.loadmat('SalinasA_smallnoise.mat')\n",
    "mat_data = scipy.io.loadmat('SalinasA.mat')\n",
    "#mat_data = scipy.io.loadmat('SalinasA_corrected.mat')\n",
    "\n",
    "\n",
    "data = mat_data[\"salinasA\"]\n",
    "#data = mat_data[\"X\"]\n",
    "\n",
    "\n",
    "x, y, z = data.shape\n",
    "salinasA = data.reshape((x*y, z))"
   ]
  },
  {
   "cell_type": "code",
   "execution_count": 353,
   "id": "b5f32045-a678-4f6e-a1de-2328a3d9e5d3",
   "metadata": {},
   "outputs": [],
   "source": [
    "norms = np.linalg.norm(salinasA, axis=1)\n",
    "\n",
    "# Normalize each pixel vector by dividing by its norm\n",
    "salinasA = salinasA / norms[:, np.newaxis]"
   ]
  },
  {
   "cell_type": "code",
   "execution_count": 354,
   "id": "3d96699b-0397-495a-8112-4a0cd803ebca",
   "metadata": {},
   "outputs": [],
   "source": [
    "mat_data_gt = scipy.io.loadmat('salinasA_gt.mat')\n",
    "gt = mat_data_gt[\"salinasA_gt\"]\n",
    "gt = gt.reshape(-1)"
   ]
  },
  {
   "cell_type": "code",
   "execution_count": 355,
   "id": "639e8b13-0e34-473f-b85b-b11c77f17d98",
   "metadata": {},
   "outputs": [
    {
     "name": "stdout",
     "output_type": "stream",
     "text": [
      "[4074 1005 6315 2332 2743 5863 5066   80 4148  733 4737 4219 2580 3066\n",
      " 2982 1179 3324 6602 4772 3112 3574 2660 6854 3161 4359 3406 2413 6563\n",
      " 2911 2907 6598 1322 6792 5373 5853 5187 6444 4714 6296 3713]\n"
     ]
    }
   ],
   "source": [
    "Land = land(salinasA, 100, gt, 40, 30)"
   ]
  },
  {
   "cell_type": "code",
   "execution_count": 356,
   "id": "2c90e304-60d9-4b0d-aee7-9e1905cdeb70",
   "metadata": {},
   "outputs": [
    {
     "data": {
      "text/plain": [
       "<matplotlib.image.AxesImage at 0x15f8c7010>"
      ]
     },
     "execution_count": 356,
     "metadata": {},
     "output_type": "execute_result"
    },
    {
     "data": {
      "image/png": "[encoded data removed]",
      "text/plain": [
       "<Figure size 640x480 with 1 Axes>"
      ]
     },
     "metadata": {},
     "output_type": "display_data"
    }
   ],
   "source": [
    "plt.imshow(Land.reshape(83, 86))"
   ]
  },
  {
   "cell_type": "code",
   "execution_count": 357,
   "id": "11364437-606c-49af-806b-29060d5c4409",
   "metadata": {},
   "outputs": [
    {
     "data": {
      "text/plain": [
       "array([13., 13., 13., ..., 14., 14., 14.])"
      ]
     },
     "execution_count": 357,
     "metadata": {},
     "output_type": "execute_result"
    }
   ],
   "source": [
    "Land"
   ]
  },
  {
   "cell_type": "code",
   "execution_count": 358,
   "id": "65d96135-6a2a-4721-847e-d31474243a28",
   "metadata": {},
   "outputs": [],
   "source": [
    "testt = Land - 1"
   ]
  },
  {
   "cell_type": "code",
   "execution_count": 359,
   "id": "50d15e0e-fb65-4556-8bea-5caff397daf8",
   "metadata": {},
   "outputs": [
    {
     "data": {
      "text/plain": [
       "0.2050994676379938"
      ]
     },
     "execution_count": 359,
     "metadata": {},
     "output_type": "execute_result"
    }
   ],
   "source": [
    "1 - np.sum(testt.reshape(83, 86) != gt.reshape(83, 86)) / 7138"
   ]
  },
  {
   "cell_type": "code",
   "execution_count": null,
   "id": "ee80e18c-7fe4-4c46-b7ec-9d64595ee20a",
   "metadata": {},
   "outputs": [],
   "source": []
  }
 ],
 "metadata": {
  "kernelspec": {
   "display_name": "Python 3 (ipykernel)",
   "language": "python",
   "name": "python3"
  },
  "language_info": {
   "codemirror_mode": {
    "name": "ipython",
    "version": 3
   },
   "file_extension": ".py",
   "mimetype": "text/x-python",
   "name": "python",
   "nbconvert_exporter": "python",
   "pygments_lexer": "ipython3",
   "version": "3.11.5"
  }
 },
 "nbformat": 4,
 "nbformat_minor": 5
}
